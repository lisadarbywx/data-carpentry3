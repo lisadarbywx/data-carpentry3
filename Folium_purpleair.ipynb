{
 "cells": [
  {
   "cell_type": "code",
   "execution_count": 1,
   "metadata": {},
   "outputs": [],
   "source": [
    "# Plot Purple Air station locations\n",
    "import folium\n",
    "from folium import plugins\n",
    "from folium.features import DivIcon\n",
    "import pandas as pd\n",
    "import branca\n",
    "import branca.colormap as cm"
   ]
  },
  {
   "cell_type": "code",
   "execution_count": 2,
   "metadata": {},
   "outputs": [],
   "source": [
    "# Read in a csv file\n",
    "# This file has the lats/lons of all stationary home-based Purple Air monitors\n",
    "# The Boulder AIR sites are plotte with their own code below\n",
    "df = pd.read_csv('C:/Users/lisad/Documents/Purple_Air/all_sites_info.csv', index_col=None, header=0)\n",
    "lat = list(df.lat)\n",
    "lon = list(df.lon)\n",
    "stn_num = list(df.stn_num)\n",
    "stn_id = list(df.stn_id)"
   ]
  },
  {
   "cell_type": "code",
   "execution_count": 3,
   "metadata": {},
   "outputs": [
    {
     "data": {
      "text/plain": [
       "\"\\n# make a color array to fill the circles\\n# Colors from Gabe's heatmap color scale\\ndef color(oz):\\n    if oz in range(40,45):\\n        col = '#000081'\\n    elif oz in range(45,50):\\n        col = '#002fff'\\n    elif oz in range(50,55):\\n        col = '#00f8ff'\\n    elif oz in range(55,60):\\n        col = '#54ffaa'\\n    elif oz in range(60,65):\\n        col = '#92ff6a'    \\n    elif oz in range(65,70):\\n        col = '#d4ff29'  \\n    elif oz in range(70,75):\\n        col = '#fff000'      \\n    elif oz in range(75,80):\\n        col = '#ffb300'        \\n    elif oz in range(80,85):\\n        col = '#ff4c00'      \\n    elif oz in range(85,90):\\n        col = '#c70000'          \\n    else:\\n        col='gray'\\n    return col \\n\""
      ]
     },
     "execution_count": 3,
     "metadata": {},
     "output_type": "execute_result"
    }
   ],
   "source": [
    "'''\n",
    "# make a color array to fill the circles\n",
    "# Colors from Gabe's heatmap color scale\n",
    "def color(oz):\n",
    "    if oz in range(40,45):\n",
    "        col = '#000081'\n",
    "    elif oz in range(45,50):\n",
    "        col = '#002fff'\n",
    "    elif oz in range(50,55):\n",
    "        col = '#00f8ff'\n",
    "    elif oz in range(55,60):\n",
    "        col = '#54ffaa'\n",
    "    elif oz in range(60,65):\n",
    "        col = '#92ff6a'    \n",
    "    elif oz in range(65,70):\n",
    "        col = '#d4ff29'  \n",
    "    elif oz in range(70,75):\n",
    "        col = '#fff000'      \n",
    "    elif oz in range(75,80):\n",
    "        col = '#ffb300'        \n",
    "    elif oz in range(80,85):\n",
    "        col = '#ff4c00'      \n",
    "    elif oz in range(85,90):\n",
    "        col = '#c70000'          \n",
    "    else:\n",
    "        col='gray'\n",
    "    return col \n",
    "'''    "
   ]
  },
  {
   "cell_type": "code",
   "execution_count": 4,
   "metadata": {},
   "outputs": [
    {
     "data": {
      "text/plain": [
       "\"\\n# Choose one of these Step (not smooth) or Linear (smooth)\\ncolormap=cm.StepColormap(colors=['#000081','#002fff','#00f8ff','#54ffaa','#92ff6a','#d4ff29','#fff000','#ffb300','#ff4c00','#c70000'], \\n                           index=[40,45,50,55,60,65,70,75,80,85], vmin=40.0, vmax=90.0,caption='Max 8-hr Ozone (ppbv)')\\n#colormap=cm.LinearColormap(colors=['#000081','#002fff','#00f8ff','#54ffaa','#92ff6a','#d4ff29','#fff000','#ffb300','#ff4c00','#c70000'], \\n#                           index=[40,45,50,55,60,65,70,75,80,85], vmin=40.0, vmax=90.0,caption='Ozone (ppbv)')\\n#Figure out which one we like better\\n\""
      ]
     },
     "execution_count": 4,
     "metadata": {},
     "output_type": "execute_result"
    }
   ],
   "source": [
    "'''\n",
    "# Choose one of these Step (not smooth) or Linear (smooth)\n",
    "colormap=cm.StepColormap(colors=['#000081','#002fff','#00f8ff','#54ffaa','#92ff6a','#d4ff29','#fff000','#ffb300','#ff4c00','#c70000'], \n",
    "                           index=[40,45,50,55,60,65,70,75,80,85], vmin=40.0, vmax=90.0,caption='Max 8-hr Ozone (ppbv)')\n",
    "#colormap=cm.LinearColormap(colors=['#000081','#002fff','#00f8ff','#54ffaa','#92ff6a','#d4ff29','#fff000','#ffb300','#ff4c00','#c70000'], \n",
    "#                           index=[40,45,50,55,60,65,70,75,80,85], vmin=40.0, vmax=90.0,caption='Ozone (ppbv)')\n",
    "#Figure out which one we like better\n",
    "'''"
   ]
  },
  {
   "cell_type": "code",
   "execution_count": 5,
   "metadata": {
    "scrolled": false
   },
   "outputs": [],
   "source": [
    "#original code I copied from an example (link in the next line); modified as I went along\n",
    "# https://www.earthdatascience.org/courses/scientists-guide-to-plotting-data-in-python/plot-spatial-data/customize-raster-plots/interactive-maps/\n",
    "# Create a map using Stamen Terrain, centered on Commerce City, CO\n",
    "\n",
    "# Note: with \"tooltip\" you see the text when you hover over the icon\n",
    "# with \"popup\" you see the text when you click on the icon\n",
    "\n",
    "m = folium.Map(location=[41.0150, -105.2705], \n",
    "              tiles = 'Stamen Terrain')\n",
    "#m.fit_bounds([[39.53, -105.5453], [40.6, -104.7374]])\n",
    "#m.fit_bounds([[39.785, -104.979], [39.853, -104.904]])\n",
    "m.fit_bounds([[39.77308, -104.979], [39.8587, -104.904]])\n",
    "\n",
    "# Plot a popup marker at each purple air location\n",
    "\n",
    "for lat, lon, stn_num in zip(lat, lon, stn_num):\n",
    "    folium.CircleMarker(\n",
    "            location=[lat, lon],\n",
    "            tooltip='PurpleAir: '+ str(stn_num),\n",
    "            fill = True,\n",
    "            fill_opacity=1,\n",
    "            color='purple'\n",
    "    ).add_to(m)\n",
    "\n",
    " \n",
    "#colormap.add_to(m)\n",
    "# Add stationary trailer location\n",
    "# Slightly larger purple marker underneather the trailer markers\n",
    "folium.CircleMarker(\n",
    "            location=[39.812588, -104.943938],\n",
    "            tooltip='CCF/PurpleAIR 25',\n",
    "            fill = True,\n",
    "            fill_opacity=1,\n",
    "            radius = 15,\n",
    "            color = 'purple'      \n",
    ").add_to(m)\n",
    "folium.CircleMarker(\n",
    "            location=[39.812588, -104.943938],\n",
    "            tooltip='CCF/PurpleAIR 25',\n",
    "            fill = True,\n",
    "            fill_opacity=1,\n",
    "            color = 'yellow'      \n",
    ").add_to(m)\n",
    "\n",
    "# Add mobile trailer location\n",
    "folium.CircleMarker(\n",
    "            location=[39.784112, -104.956502],\n",
    "            tooltip='CCM/PurpleAIR 24',\n",
    "            fill = True,\n",
    "            fill_opacity=1,\n",
    "            radius = 15,\n",
    "            color = 'purple'      \n",
    ").add_to(m)\n",
    "folium.CircleMarker(\n",
    "            location=[39.784112, -104.956502],\n",
    "            tooltip='CCM/PurpleAIR 24',\n",
    "            fill = True,\n",
    "            fill_opacity=1,\n",
    "            color = 'green'      \n",
    ").add_to(m)\n",
    "\n",
    "#folium.map.Marker(\n",
    "#        [39.879, -104.985],\n",
    "#        icon=DivIcon(\n",
    "#        icon_size=(250,36),\n",
    "#        icon_anchor=(0,0),\n",
    "#        html='<div style=\"font-size: 14pt\">Hover your mouse over a marker to see the PurpleAir station number</div>',\n",
    "#        )\n",
    "#).add_to(m)\n",
    "\n",
    "# Try adding in Sue's code about hovering\n",
    "# Not working yet - her code puts it in a border, not actually on the map\n",
    "# I'm not sure how to incorporate into my code\n",
    "#folium.Marker(\n",
    "#        [39.879, -104.985],\n",
    "#        icon_size=(250,36),\n",
    "#        icon_anchor=(0,0),\n",
    "#        icon=DivIcon(\n",
    "#        html='<div style=\"font-size: 22px; border: 10px; font-style: italic;\">&nbsp;&nbsp;&nbsp;Hover over data markers for site information</div>',\n",
    "#        )\n",
    "#).add_to(m)\n",
    "\n",
    "#*****\n",
    "#For now, add her line to the first line of the body section of the actual html file so it will show up\n",
    "#*****\n",
    "\n",
    "# this shows up on the screen, but is not saved to the html file (2/16/22)\n",
    "\n",
    "# Attempt to add the station number on top of the purple dots\n",
    "#for lat, lon, stn_num in zip(lat, lon, stn_num):\n",
    "#    folium.map.Marker(S\n",
    "#        location=[lat, lon],\n",
    "#        icon=folium.DivIcon(\n",
    "#        icon_size=(250,36),\n",
    "#        icon_anchor=(0,0),\n",
    "#        html='<div style=\"font-size: 14pt\">['stn_num']</div>',\n",
    "#        )\n",
    "#    ).add_to(m)\n",
    "\n",
    "# Add annotation; copied from here https://stackoverflow.com/questions/65104927/add-text-to-folium-map-using-an-absolute-position\n",
    "# This was for the Front Range ozone dot map\n",
    "'''\n",
    "folium.map.Marker(\n",
    "    [39.6, -104.5],\n",
    "    icon=DivIcon(\n",
    "        icon_size=(250,36),\n",
    "        icon_anchor=(0,0),\n",
    "        html='<div style=\"font-size: 14pt\">19 Mar 2021</div>',\n",
    "        )\n",
    "    ).add_to(m)\n",
    "'''    \n",
    "m\n",
    "# save to html file - creates a clickable map\n",
    "# map won't show in the screen if this isn't commented out\n",
    "m.save('C:/Users/lisad/OneDrive/Documents/Purple_Air/CommerceCitySensorsMap.html')"
   ]
  },
  {
   "cell_type": "code",
   "execution_count": 6,
   "metadata": {},
   "outputs": [
    {
     "data": {
      "text/plain": [
       "21"
      ]
     },
     "execution_count": 6,
     "metadata": {},
     "output_type": "execute_result"
    }
   ],
   "source": [
    "stn_num"
   ]
  },
  {
   "cell_type": "code",
   "execution_count": null,
   "metadata": {},
   "outputs": [],
   "source": []
  }
 ],
 "metadata": {
  "kernelspec": {
   "display_name": "Python 3 (ipykernel)",
   "language": "python",
   "name": "python3"
  },
  "language_info": {
   "codemirror_mode": {
    "name": "ipython",
    "version": 3
   },
   "file_extension": ".py",
   "mimetype": "text/x-python",
   "name": "python",
   "nbconvert_exporter": "python",
   "pygments_lexer": "ipython3",
   "version": "3.9.12"
  }
 },
 "nbformat": 4,
 "nbformat_minor": 4
}
